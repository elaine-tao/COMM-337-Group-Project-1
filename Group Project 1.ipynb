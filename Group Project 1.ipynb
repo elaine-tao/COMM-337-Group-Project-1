{
 "cells": [
  {
   "cell_type": "markdown",
   "id": "1a2f4adf-3fb2-4314-a422-cafc55c3c1c4",
   "metadata": {},
   "source": [
    "# Group Project 1\n",
    "\n",
    "#### Project Members:\n",
    "* Claire O'Brien (ID): email\n",
    "* Elaine Tao (ID):email\n",
    "* Cynthia Wang (ID):email"
   ]
  },
  {
   "cell_type": "code",
   "execution_count": 1,
   "id": "dad48ad9-9c9b-485c-ba41-40da10ff1bdf",
   "metadata": {},
   "outputs": [],
   "source": [
    "import pandas as pd\n",
    "import numpy as np\n",
    "import matplotlib as plt"
   ]
  },
  {
   "cell_type": "markdown",
   "id": "270bb336-489d-4bfe-904c-a2f4803aca6a",
   "metadata": {},
   "source": [
    "**1. Read the data in your notebook and display the first 8 rows. How many columns and rows are there in this dataset? What are the column names?**\n"
   ]
  },
  {
   "cell_type": "code",
   "execution_count": null,
   "id": "d551f1fb-5ac7-4eb0-bd7f-3433e21beb68",
   "metadata": {},
   "outputs": [],
   "source": []
  }
 ],
 "metadata": {
  "kernelspec": {
   "display_name": "Python 3 (ipykernel)",
   "language": "python",
   "name": "python3"
  },
  "language_info": {
   "codemirror_mode": {
    "name": "ipython",
    "version": 3
   },
   "file_extension": ".py",
   "mimetype": "text/x-python",
   "name": "python",
   "nbconvert_exporter": "python",
   "pygments_lexer": "ipython3",
   "version": "3.12.8"
  }
 },
 "nbformat": 4,
 "nbformat_minor": 5
}
